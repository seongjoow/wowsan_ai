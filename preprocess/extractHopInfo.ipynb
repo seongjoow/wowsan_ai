{
 "cells": [
  {
   "cell_type": "code",
   "execution_count": 5,
   "metadata": {},
   "outputs": [],
   "source": [
    "import json"
   ]
  },
  {
   "cell_type": "code",
   "execution_count": 9,
   "metadata": {},
   "outputs": [
    {
     "name": "stdout",
     "output_type": "stream",
     "text": [
      "{\n",
      "  \"BrokerId\": \"localhost:50001\",\n",
      "  \"Cpu\": \"101.324860\",\n",
      "  \"Memory\": \"117477376\",\n",
      "  \"QueueLength\": \"0\",\n",
      "  \"QueueTime\": \"0.000000\",\n",
      "  \"ServiceTime\": \"765.910200\",\n",
      "  \"ResponseTime\": \"765.910200\",\n",
      "  \"InterArrivalTime\": \"9095.360300\",\n",
      "  \"Throughput\": \"1.305636\",\n",
      "  \"Timestamp\": \"2024-05-16 23:42:13.7603543 +0900 KST m=+18.862007301\",\n",
      "  \"time\": \"2024-05-16 23:42:13\"\n",
      "}\n",
      "{\n",
      "  \"BrokerId\": \"localhost:50001\",\n",
      "  \"Cpu\": \"101.483465\",\n",
      "  \"Memory\": \"117624832\",\n",
      "  \"QueueLength\": \"0\",\n",
      "  \"QueueTime\": \"0.000000\",\n",
      "  \"ServiceTime\": \"854.678466\",\n",
      "  \"ResponseTime\": \"854.678466\",\n",
      "  \"InterArrivalTime\": \"2248.626800\",\n",
      "  \"Throughput\": \"1.170031\",\n",
      "  \"Timestamp\": \"2024-05-16 23:42:15.2550943 +0900 KST m=+20.356737701\",\n",
      "  \"time\": \"2024-05-16 23:42:15\"\n",
      "}\n",
      "{\n",
      "  \"BrokerId\": \"localhost:50001\",\n",
      "  \"Cpu\": \"101.542867\",\n",
      "  \"Memory\": \"117383168\",\n",
      "  \"QueueLength\": \"0\",\n",
      "  \"QueueTime\": \"0.000000\",\n",
      "  \"ServiceTime\": \"0.000000\",\n",
      "  \"ResponseTime\": \"0.000000\",\n",
      "  \"InterArrivalTime\": \"0.000000\",\n",
      "  \"Throughput\": \"0.000000\",\n",
      "  \"Timestamp\": \"2024-05-17 13:49:58.379866 +0900 KST m=+4.857049301\",\n",
      "  \"time\": \"2024-05-17 13:49:59\"\n",
      "}\n",
      "{\n",
      "  \"BrokerId\": \"localhost:50003\",\n",
      "  \"Cpu\": \"100.786872\",\n",
      "  \"Memory\": \"117833728\",\n",
      "  \"QueueLength\": \"0\",\n",
      "  \"QueueTime\": \"0.000000\",\n",
      "  \"ServiceTime\": \"0.000000\",\n",
      "  \"ResponseTime\": \"0.000000\",\n",
      "  \"InterArrivalTime\": \"0.000000\",\n",
      "  \"Throughput\": \"0.000000\",\n",
      "  \"Timestamp\": \"2024-05-17 13:49:58.8695027 +0900 KST m=+5.143736001\",\n",
      "  \"time\": \"2024-05-17 13:49:59\"\n",
      "}\n",
      "{\n",
      "  \"BrokerId\": \"localhost:50003\",\n",
      "  \"Cpu\": \"100.786872\",\n",
      "  \"Memory\": \"117833728\",\n",
      "  \"QueueLength\": \"0\",\n",
      "  \"QueueTime\": \"0.000000\",\n",
      "  \"ServiceTime\": \"0.000000\",\n",
      "  \"ResponseTime\": \"0.000000\",\n",
      "  \"InterArrivalTime\": \"0.000000\",\n",
      "  \"Throughput\": \"0.000000\",\n",
      "  \"Timestamp\": \"2024-05-17 13:49:58.8695027 +0900 KST m=+5.143736001\",\n",
      "  \"time\": \"2024-05-17 13:50:01\"\n",
      "}\n"
     ]
    }
   ],
   "source": [
    "# 파일명 설정\n",
    "filename = 'data.json'\n",
    "\n",
    "# 결과를 저장할 리스트 초기화\n",
    "extracted_data = []\n",
    "\n",
    "# 파일을 열어 각 라인을 독립적으로 처리\n",
    "with open(filename, 'r') as file:\n",
    "    for line in file:\n",
    "        try:\n",
    "            record = json.loads(line)\n",
    "            # PerformanceInfo의 첫 번째 요소를 추출하고 'time' 키 추가\n",
    "            extracted_record = record['PerformanceInfo'][0]  # PerformanceInfo 배열의 첫 번째 요소\n",
    "            extracted_record['time'] = record['time']  # time 키를 추가\n",
    "            \n",
    "            # 결과 데이터에 추가\n",
    "            extracted_data.append(extracted_record)\n",
    "        \n",
    "        except json.JSONDecodeError as e:\n",
    "            print(f\"Error parsing JSON: {e}\")\n",
    "\n",
    "# 결과 출력\n",
    "for data in extracted_data:\n",
    "    print(json.dumps(data, indent=2))\n",
    "\n",
    "# 필요에 따라 결과를 새 파일에 저장할 수도 있습니다.\n",
    "# with open('extracted_data.json', 'w') as file:\n",
    "#     json.dump(extracted_data, file, indent=2)\n"
   ]
  },
  {
   "cell_type": "code",
   "execution_count": null,
   "metadata": {},
   "outputs": [],
   "source": []
  }
 ],
 "metadata": {
  "kernelspec": {
   "display_name": "graphML",
   "language": "python",
   "name": "python3"
  },
  "language_info": {
   "codemirror_mode": {
    "name": "ipython",
    "version": 3
   },
   "file_extension": ".py",
   "mimetype": "text/x-python",
   "name": "python",
   "nbconvert_exporter": "python",
   "pygments_lexer": "ipython3",
   "version": "3.10.13"
  }
 },
 "nbformat": 4,
 "nbformat_minor": 2
}
